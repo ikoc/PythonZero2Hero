{
 "cells": [
  {
   "cell_type": "markdown",
   "metadata": {},
   "source": [
    "# Programming Languages\n",
    "\n",
    "A programming language is a formal language designed to communicate instructions to a machine, such as a computer. A program is a set of instructions that tell a computer what to do, and programming languages are the means by which programmers write those instructions.\n",
    "\n",
    "There are many different programming languages, each with its own syntax (grammar), semantics (meaning), and set of features. Some of the most popular programming languages today include:\n",
    "\n",
    "- Python\n",
    "- Java\n",
    "- JavaScript\n",
    "- C++\n",
    "- Haskell\n",
    "- Ruby\n",
    "- PHP\n",
    "- Swift\n",
    "- Go\n",
    "- Kotlin\n",
    "- TypeScript\n",
    "\n",
    "Each language has its own strengths and weaknesses, and different languages are suited to different types of programming tasks. For example, Python is a popular language for data analysis and scientific computing, while Java is widely used for building enterprise-level applications."
   ]
  },
  {
   "cell_type": "markdown",
   "metadata": {},
   "source": [
    "# Lesson 1: Introduction to Python and Basic Syntax\n",
    "\n",
    "\n",
    "Python is a high-level programming language that is widely used for web development, data analysis, machine learning, and artificial intelligence."
   ]
  },
  {
   "cell_type": "code",
   "execution_count": null,
   "metadata": {
    "pycharm": {
     "is_executing": true
    }
   },
   "outputs": [],
   "source": [
    "print(\"Hello, World!\")"
   ]
  },
  {
   "cell_type": "markdown",
   "metadata": {},
   "source": [
    "### Python is an interpreter language. \n",
    "An interpreter is a program that reads and executes source code line-by-line, as opposed to a compiler, which translates source code into machine code before execution. In other words, an interpreter executes code directly, while a compiler generates an executable file that can be run later.\n",
    "\n",
    "When you run a Python program, the Python interpreter reads the source code line-by-line and executes it immediately. This allows for a more interactive programming experience, as you can test and modify your code on-the-fly.\n",
    "\n",
    "One advantage of interpreted languages like Python is that they are generally easier to use and learn, as you can see the results of your code immediately. However, interpreted languages may be slower than compiled languages, as the interpreter must perform more work during execution. To mitigate this, Python includes a just-in-time (JIT) compiler called PyPy, which can improve the performance of Python programs in certain cases."
   ]
  },
  {
   "cell_type": "markdown",
   "metadata": {},
   "source": [
    "### Primitive data types\n",
    "In Python, there are several built-in primitive data types that represent the most basic types of values. The main primitive data types in Python are:\n",
    "\n",
    "- Integers (int): Integers are whole numbers, such as 1, 2, -3, and 0. In Python, integers have unlimited precision, which means they can be arbitrarily large or small.\n",
    "- Floating-point numbers (float): Floating-point numbers are numbers with a fractional part, such as 3.14, -2.5, and 0.0. Floating-point numbers are represented using the IEEE 754 standard.\n",
    "- Booleans (bool): Booleans are binary values that represent truth or falsehood. In Python, the two boolean values are True and False.\n",
    "- Strings (str): Strings are sequences of characters, such as \"hello\", \"world\", and \"123\". Strings can be enclosed in either single quotes (') or double quotes (\").\n",
    "- NoneType (None): None is a special data type in Python that represents the absence of a value. It is often used to indicate that a variable has not been assigned a value."
   ]
  },
  {
   "cell_type": "code",
   "execution_count": null,
   "metadata": {},
   "outputs": [],
   "source": [
    "# Example 1: Creating and assigning values to primitive data types\n",
    "my_integer = 42        # integer\n",
    "my_float = 3.14        # floating-point number\n",
    "my_boolean = True      # boolean\n",
    "my_string = \"hello\"    # string\n",
    "my_none = None         # NoneType\n",
    "print(type(my_integer))\n",
    "print(type(my_string))"
   ]
  },
  {
   "cell_type": "markdown",
   "metadata": {},
   "source": [
    "### Composite data types \n",
    "In addition to the primitive data types, Python also provides several built-in composite data types that are used to store collections of values. These include:\n",
    "\n",
    "- Lists (list): Lists are ordered collections of values that can be of any data type. Lists are mutable, which means that they can be modified after they are created.\n",
    "- Tuples (tuple): Tuples are ordered collections of values, similar to lists. However, unlike lists, tuples are immutable, which means that they cannot be modified once they are created.\n",
    "- Sets (set): Sets are unordered collections of unique values. Sets are mutable, and can be modified after they are created.\n",
    "- Dictionaries (dict): Dictionaries are collections of key-value pairs, where each key is associated with a value. Dictionaries are mutable, and can be modified after they are created.\n"
   ]
  },
  {
   "cell_type": "code",
   "execution_count": null,
   "metadata": {},
   "outputs": [],
   "source": [
    "# Example 2: Creating and assigning values to composite data types\n",
    "my_list = [1, \"hello\", True]          # list\n",
    "my_tuple = (2, \"world\", False)        # tuple\n",
    "my_set = {1, 2, 3, 4, 4}              # set\n",
    "my_dict = {\"name\": \"Alice\", \"age\": 30}# dictionary\n",
    "print(type(my_dict))"
   ]
  },
  {
   "cell_type": "markdown",
   "metadata": {},
   "source": [
    "### Operators\n",
    "\n",
    "Operators are used to perform operations on variables and values in a program. Python supports a wide range of operators, including arithmetic, comparison, and logical operators.\n",
    "\n",
    "#### Arithmetic Operators\n",
    "\n",
    "Arithmetic operators are used to perform mathematical operations, such as addition, subtraction, multiplication, and division. Here's a list of the arithmetic operators in Python:"
   ]
  },
  {
   "cell_type": "code",
   "execution_count": null,
   "metadata": {},
   "outputs": [],
   "source": [
    "# Example 3: Defining variables and performing arithmetic operations\n",
    "x = 5\n",
    "y = 3\n",
    "print(x + y)  # Addition\n",
    "print(x - y)  # Subtraction\n",
    "print(x * y)  # Multiplication\n",
    "print(x / y)  # Division: returns a float\n",
    "print(x // y) # Integer Division: returns an integer\n",
    "print(x % y)  # Modulus: returns the remainder\n",
    "print(x ** y) # Exponention: returns x to the power of y"
   ]
  },
  {
   "cell_type": "code",
   "execution_count": null,
   "metadata": {},
   "outputs": [],
   "source": [
    "print(\"x = {} y = {}\".format(x,y))\n",
    "print(\"x + y = {}\".format(x + y))\n",
    "print(\"x - y = {}\".format(x - y))\n",
    "print(\"x * y = {}\".format(x * y))\n",
    "print(\"x / y = {}\".format(x / y))  \n",
    "print(\"x //y = {}\".format(x // y)) \n",
    "print(\"x % y = {}\".format(x % y))  \n",
    "print(\"x **y = {}\".format(x ** y)) "
   ]
  },
  {
   "cell_type": "markdown",
   "metadata": {},
   "source": [
    "### Comparison Operators\n",
    "Comparison operators are used to compare the values of two variables or values. They return a boolean value (True or False) depending on whether the comparison is true or false. Here's a list of the comparison operators in Python:"
   ]
  },
  {
   "cell_type": "code",
   "execution_count": null,
   "metadata": {
    "scrolled": true
   },
   "outputs": [],
   "source": [
    "# Example 4: Using comparison operators\n",
    "x = 10\n",
    "y = 5\n",
    "print(x == y)   # False\n",
    "print(x != y)   # True\n",
    "print(x < y)    # False\n",
    "print(x > y)    # True\n",
    "print(x <= y)   # False\n",
    "print(x >= y)   # True\n"
   ]
  },
  {
   "cell_type": "markdown",
   "metadata": {},
   "source": [
    "### Logical Operators\n",
    "\n",
    "Logical operators are used to combine conditional statements in a program. They return a boolean value (True or False) based on the logical relationship between the statements. Python supports three logical operators: and, or, and not. Here's a truth table that shows the result of applying each logical operator to two boolean values:"
   ]
  },
  {
   "cell_type": "code",
   "execution_count": null,
   "metadata": {},
   "outputs": [],
   "source": [
    "# Example 5: Using logical operators\n",
    "x = 5\n",
    "y = 10\n",
    "\n",
    "# and operator\n",
    "if x > 0 and y < 20:\n",
    "    print(\"Both conditions are True\")\n",
    "\n",
    "# or operator\n",
    "if x > 0 or y < 0:\n",
    "    print(\"At least one condition is True\")\n",
    "\n",
    "# not operator\n",
    "if not x == y:\n",
    "    print(\"x is not equal to y\")\n"
   ]
  },
  {
   "cell_type": "markdown",
   "metadata": {},
   "source": [
    "### Working with strings and string methods"
   ]
  },
  {
   "cell_type": "code",
   "execution_count": null,
   "metadata": {},
   "outputs": [],
   "source": [
    "text = \"Python is a great programming language!\"\n",
    "print(text.lower()) # converts all characters to lowercase\n",
    "print(text.upper()) # converts all characters to uppercase\n",
    "print(text.capitalize()) # capitalizes the first character of the string\n",
    "print(text.replace(\"Python\", \"Java\")) # replaces a substring with another substring\n",
    "print(len(text)) # returns the length of the string\n",
    "print(text.split(\" \"))"
   ]
  },
  {
   "cell_type": "code",
   "execution_count": 6,
   "metadata": {},
   "outputs": [
    {
     "name": "stdout",
     "output_type": "stream",
     "text": [
      "Enter Number 5\n",
      "Entered type: <class 'str'>\n",
      "Entered number: 5\n",
      "Is number ? True\n"
     ]
    }
   ],
   "source": [
    "num = input(\"Enter Number \")\n",
    "print(\"Entered type: {}\".format(type(num)))\n",
    "print(\"Entered number: {}\".format(num))\n",
    "# print(\"Is number ? \" + num.isnumeric())\n",
    "print(\"Is number ? \" + str(num.isnumeric()))"
   ]
  }
 ],
 "metadata": {
  "kernelspec": {
   "display_name": "Python 3 (ipykernel)",
   "language": "python",
   "name": "python3"
  },
  "language_info": {
   "codemirror_mode": {
    "name": "ipython",
    "version": 3
   },
   "file_extension": ".py",
   "mimetype": "text/x-python",
   "name": "python",
   "nbconvert_exporter": "python",
   "pygments_lexer": "ipython3",
   "version": "3.9.6"
  },
  "vscode": {
   "interpreter": {
    "hash": "31f2aee4e71d21fbe5cf8b01ff0e069b9275f58929596ceb00d14d90e3e16cd6"
   }
  }
 },
 "nbformat": 4,
 "nbformat_minor": 1
}
