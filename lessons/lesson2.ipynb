{
 "cells": [
  {
   "cell_type": "markdown",
   "metadata": {},
   "source": [
    "# Lesson 2: Control Structures"
   ]
  },
  {
   "cell_type": "markdown",
   "metadata": {},
   "source": [
    "Control structures are used to control the flow of execution of a program based on certain conditions or criteria.\n",
    "\n",
    "### If-else statements\n",
    "\n",
    "If-else statements are used to execute different blocks of code based on a condition. "
   ]
  },
  {
   "cell_type": "code",
   "execution_count": null,
   "metadata": {
    "ExecuteTime": {
     "end_time": "2023-04-12T15:21:19.398799Z",
     "start_time": "2023-04-12T15:21:19.394440Z"
    }
   },
   "outputs": [],
   "source": [
    "# Example 1: Using if-else statement to check if a number is positive or negative\n",
    "x = -5\n",
    "if x > 0:\n",
    "    print(\"x is positive\")\n",
    "else:\n",
    "    print(\"x is negative\")\n"
   ]
  },
  {
   "cell_type": "markdown",
   "metadata": {},
   "source": [
    "### Loops\n",
    "\n",
    "Loops are used to execute a block of code repeatedly based on a condition or a number of iterations. There are two types of loops in Python: for loops and while loops.\n",
    "\n",
    "- For loops are used to iterate over a sequence of elements, such as a list or a string. Here's an example of a for loop in Python:"
   ]
  },
  {
   "cell_type": "code",
   "execution_count": null,
   "metadata": {},
   "outputs": [],
   "source": [
    "# Example 2: Using a for loop to iterate over a list\n",
    "fruits = [\"apple\", \"banana\", \"cherry\"]\n",
    "for fruit in fruits:\n",
    "    print(fruit)\n"
   ]
  },
  {
   "cell_type": "markdown",
   "metadata": {},
   "source": [
    "- While loops are used to repeat a block of code as long as a certain condition is true. Here is an example of a while loop in Python:"
   ]
  },
  {
   "cell_type": "code",
   "execution_count": null,
   "metadata": {},
   "outputs": [],
   "source": [
    "# Example 3: Using a while loop to count down from 10 to 1\n",
    "i = 10\n",
    "while i > 0:\n",
    "    print(i)\n",
    "    i -= 1\n"
   ]
  },
  {
   "cell_type": "markdown",
   "metadata": {},
   "source": [
    "### Nested if-else statements and loops\n",
    "\n",
    "- Nested if-else statements are used to create multiple levels of conditions. Here's an example of a nested if-else statement in Python:"
   ]
  },
  {
   "cell_type": "code",
   "execution_count": null,
   "metadata": {},
   "outputs": [],
   "source": [
    "# Example 4: Using nested if-else statements to check the grade of a student\n",
    "score = 85\n",
    "if score >= 90:\n",
    "    print(\"Grade: A\")\n",
    "else:\n",
    "    if score >= 80:\n",
    "        print(\"Grade: B\")\n",
    "    else:\n",
    "        if score >= 70:\n",
    "            print(\"Grade: C\")\n",
    "        else:\n",
    "            if score >= 60:\n",
    "                print(\"Grade: D\")\n",
    "            else:\n",
    "                print(\"Grade: F\")\n"
   ]
  },
  {
   "cell_type": "markdown",
   "metadata": {},
   "source": [
    "- Nested loops are used to iterate over multiple sequences or to create multi-dimensional data structures. Here's an example of a nested for loop in Python:\n",
    "\n"
   ]
  },
  {
   "cell_type": "code",
   "execution_count": null,
   "metadata": {},
   "outputs": [],
   "source": [
    "# Example 5: Using nested for loops to create a multiplication table\n",
    "for i in range(1, 11):\n",
    "    for j in range(1, 11):\n",
    "        print(i * j, end=\"\\t\")\n",
    "    print()"
   ]
  },
  {
   "cell_type": "markdown",
   "metadata": {},
   "source": [
    "### Error handling with try-except statements\n",
    "\n",
    "How to handle errors and exceptions in Python using try-except statements. Try-except statements are used to catch errors and handle them gracefully, rather than letting the program crash. Here's an example of a try-except statement in Python:"
   ]
  },
  {
   "cell_type": "code",
   "execution_count": null,
   "metadata": {},
   "outputs": [],
   "source": [
    "# Example 6: Using try-except statements to handle division by zero error\n",
    "a = 5\n",
    "b = 0\n",
    "try:\n",
    "    result = a / b\n",
    "    print(result)\n",
    "except ZeroDivisionError:\n",
    "    print(\"Error: Division by zero\")\n"
   ]
  },
  {
   "cell_type": "markdown",
   "metadata": {},
   "source": [
    "# Practice Time\n",
    "\n",
    "Let us practice what we have learnt so far. \n",
    "You can complete projects from 1 to 4."
   ]
  }
 ],
 "metadata": {
  "kernelspec": {
   "display_name": "Python 3 (ipykernel)",
   "language": "python",
   "name": "python3"
  },
  "language_info": {
   "codemirror_mode": {
    "name": "ipython",
    "version": 3
   },
   "file_extension": ".py",
   "mimetype": "text/x-python",
   "name": "python",
   "nbconvert_exporter": "python",
   "pygments_lexer": "ipython3",
   "version": "3.9.6"
  }
 },
 "nbformat": 4,
 "nbformat_minor": 1
}
