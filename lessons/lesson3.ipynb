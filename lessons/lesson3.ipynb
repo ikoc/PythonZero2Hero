{
 "cells": [
  {
   "cell_type": "markdown",
   "metadata": {
    "collapsed": true
   },
   "source": [
    "# Lesson 3: Functions and Modules"
   ]
  },
  {
   "cell_type": "markdown",
   "metadata": {},
   "source": [
    "## Functions\n",
    "\n",
    "Functions are a way of organizing and reusing code in a program. A function is a block of code that performs a specific task and can be called from other parts of the program. Functions are defined using the def keyword, followed by the function name and any arguments that the function takes.\n",
    "\n",
    "Here's an example of how to define and call a function in Python:"
   ]
  },
  {
   "cell_type": "code",
   "execution_count": 1,
   "metadata": {},
   "outputs": [
    {
     "name": "stdout",
     "output_type": "stream",
     "text": [
      "Hello, Alice!\n",
      "Hello, Bob!\n"
     ]
    }
   ],
   "source": [
    "# Example 1: Defining and calling a function\n",
    "def greet(name):\n",
    "    print(\"Hello, \" + name + \"!\")\n",
    "\n",
    "greet(\"Alice\")  # prints \"Hello, Alice!\"\n",
    "greet(\"Bob\")    # prints \"Hello, Bob!\"\n"
   ]
  },
  {
   "cell_type": "markdown",
   "metadata": {},
   "source": [
    "Functions can also return values using the return keyword. Here's an example:\n"
   ]
  },
  {
   "cell_type": "code",
   "execution_count": 3,
   "metadata": {},
   "outputs": [
    {
     "name": "stdout",
     "output_type": "stream",
     "text": [
      "25\n"
     ]
    }
   ],
   "source": [
    "# Example 2: Function that returns a value\n",
    "def square(x):\n",
    "    return x ** 2\n",
    "\n",
    "result = square(5)\n",
    "print(result)   # prints 25"
   ]
  },
  {
   "cell_type": "markdown",
   "metadata": {},
   "source": [
    "## Modules\n",
    "\n",
    "Modules are a way of organizing and reusing code across multiple programs. A module is a file containing Python definitions and statements that can be imported into another program. Python comes with many built-in modules that provide useful functions and data structures, such as the math module for mathematical operations and the random module for generating random numbers.\n",
    "\n",
    "Here's an example of how to use the math module in Python:"
   ]
  },
  {
   "cell_type": "code",
   "execution_count": 4,
   "metadata": {},
   "outputs": [
    {
     "name": "stdout",
     "output_type": "stream",
     "text": [
      "1.4142135623730951\n"
     ]
    }
   ],
   "source": [
    "# Example 3: Using the math module\n",
    "import math\n",
    "\n",
    "x = 2\n",
    "result = math.sqrt(x)   # calculate the square root of x using the sqrt function from the math module\n",
    "print(result)           # prints 1.4142135623730951\n"
   ]
  },
  {
   "cell_type": "markdown",
   "metadata": {},
   "source": [
    "You can also import specific functions or variables from a module using the from keyword. Here's an example:"
   ]
  },
  {
   "cell_type": "code",
   "execution_count": 5,
   "metadata": {},
   "outputs": [
    {
     "name": "stdout",
     "output_type": "stream",
     "text": [
      "1.0\n"
     ]
    }
   ],
   "source": [
    "# Example 4: Importing specific functions from a module\n",
    "from math import pi, sin\n",
    "\n",
    "x = pi / 2\n",
    "result = sin(x)         # calculate the sine of x using the sin function from the math module\n",
    "print(result)           # prints 1.0\n"
   ]
  },
  {
   "attachments": {},
   "cell_type": "markdown",
   "metadata": {},
   "source": [
    "# Practice Time\n",
    "\n",
    "Let us practice what we have learnt so far. \n",
    "You can complete projects 5."
   ]
  }
 ],
 "metadata": {
  "kernelspec": {
   "display_name": "Python 3 (ipykernel)",
   "language": "python",
   "name": "python3"
  },
  "language_info": {
   "codemirror_mode": {
    "name": "ipython",
    "version": 3
   },
   "file_extension": ".py",
   "mimetype": "text/x-python",
   "name": "python",
   "nbconvert_exporter": "python",
   "pygments_lexer": "ipython3",
   "version": "3.9.6"
  }
 },
 "nbformat": 4,
 "nbformat_minor": 1
}
