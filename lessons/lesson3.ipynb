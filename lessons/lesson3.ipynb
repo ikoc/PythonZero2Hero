{
 "cells": [
  {
   "cell_type": "markdown",
   "metadata": {
    "collapsed": true
   },
   "source": [
    "# Lesson 3: Functions and Modules"
   ]
  },
  {
   "cell_type": "markdown",
   "metadata": {},
   "source": [
    "## Functions\n",
    "\n",
    "Functions are a way of organizing and reusing code in a program. A function is a block of code that performs a specific task and can be called from other parts of the program. Functions are defined using the def keyword, followed by the function name and any arguments that the function takes.\n",
    "\n",
    "Here's an example of how to define and call a function in Python:"
   ]
  },
  {
   "cell_type": "code",
   "execution_count": null,
   "metadata": {},
   "outputs": [],
   "source": [
    "# Example 1: Defining and calling a function\n",
    "def greet(name):\n",
    "    print(\"Hello, \" + name + \"!\")\n",
    "\n",
    "greet(\"Alice\")  # prints \"Hello, Alice!\"\n",
    "greet(\"Bob\")    # prints \"Hello, Bob!\"\n"
   ]
  },
  {
   "cell_type": "markdown",
   "metadata": {},
   "source": [
    "Functions can also return values using the return keyword. Here's an example:\n"
   ]
  },
  {
   "cell_type": "code",
   "execution_count": null,
   "metadata": {},
   "outputs": [],
   "source": [
    "# Example 2: Function that returns a value\n",
    "def square(x):\n",
    "    return x ** 2\n",
    "\n",
    "result = square(5)\n",
    "print(result)   # prints 25"
   ]
  },
  {
   "cell_type": "markdown",
   "metadata": {},
   "source": [
    "## Modules\n",
    "\n",
    "Modules are a way of organizing and reusing code across multiple programs. A module is a file containing Python definitions and statements that can be imported into another program. Python comes with many built-in modules that provide useful functions and data structures, such as the math module for mathematical operations and the random module for generating random numbers.\n",
    "\n",
    "Here's an example of how to use the math module in Python:"
   ]
  },
  {
   "cell_type": "code",
   "execution_count": null,
   "metadata": {},
   "outputs": [],
   "source": [
    "# Example 3: Using the math module\n",
    "import math\n",
    "\n",
    "x = 2\n",
    "result = math.sqrt(x)   # calculate the square root of x using the sqrt function from the math module\n",
    "print(result)           # prints 1.4142135623730951\n"
   ]
  },
  {
   "cell_type": "markdown",
   "metadata": {},
   "source": [
    "You can also import specific functions or variables from a module using the from keyword. Here's an example:"
   ]
  },
  {
   "cell_type": "code",
   "execution_count": null,
   "metadata": {},
   "outputs": [],
   "source": [
    "# Example 4: Importing specific functions from a module\n",
    "from math import pi, sin\n",
    "\n",
    "x = pi / 2\n",
    "result = sin(x)         # calculate the sine of x using the sin function from the math module\n",
    "print(result)           # prints 1.0\n"
   ]
  },
  {
   "cell_type": "code",
   "execution_count": null,
   "metadata": {},
   "outputs": [],
   "source": [
    "# os: This module provides a way of using operating system dependent functionality. \n",
    "# It can be used to work with files, directories, and paths.\n",
    "import os\n",
    "\n",
    "# Get the current working directory\n",
    "cwd = os.getcwd()\n",
    "print(cwd)\n",
    "\n",
    "# Create a new directory\n",
    "os.mkdir('new_directory')\n",
    "\n",
    "# Change directory\n",
    "os.chdir('new_directory')\n",
    "\n",
    "# Delete a directory\n",
    "os.rmdir('new_directory')\n"
   ]
  },
  {
   "cell_type": "code",
   "execution_count": null,
   "metadata": {},
   "outputs": [],
   "source": [
    "# random: This module provides functions for generating random numbers. \n",
    "# It can be used to simulate random events, create passwords, and much more.\n",
    "    \n",
    "import random\n",
    "\n",
    "# Generate a random integer between 1 and 100\n",
    "number = random.randint(1, 100)\n",
    "print(number)\n",
    "\n",
    "# Shuffle a list\n",
    "my_list = [1, 2, 3, 4, 5]\n",
    "random.shuffle(my_list)\n",
    "print(my_list)\n",
    "\n",
    "# Pick a random element from a list\n",
    "my_list = [\"apple\", \"banana\", \"cherry\"]\n",
    "random_element = random.choice(my_list)\n",
    "print(random_element)\n"
   ]
  },
  {
   "cell_type": "code",
   "execution_count": 1,
   "metadata": {},
   "outputs": [
    {
     "name": "stdout",
     "output_type": "stream",
     "text": [
      "<_sre.SRE_Match object; span=(7, 13), match='Python'>\n",
      "Search successful.\n",
      "I love Python programming\n",
      "['apple', 'banana']\n"
     ]
    }
   ],
   "source": [
    "# re: This module provides regular expression matching operations. \n",
    "# It can be used to search, replace and manipulate text.\n",
    "import re\n",
    "\n",
    "# Search for a pattern in a string\n",
    "pattern = \"Python\"\n",
    "string = \"I love Python programming\"\n",
    "result = re.search(pattern, string)\n",
    "print(result)\n",
    "\n",
    "pattern = '^a...s$'\n",
    "test_string = 'abyss'\n",
    "result = re.match(pattern, test_string)\n",
    "\n",
    "if result:\n",
    "  print(\"Search successful.\")\n",
    "else:\n",
    "  print(\"Search unsuccessful.\")\t\n",
    "\n",
    "# Replace a pattern in a string\n",
    "new_string = re.sub(pattern, \"Java\", string)\n",
    "print(new_string)\n",
    "\n",
    "# Match multiple patterns\n",
    "patterns = [\"apple\", \"banana\", \"cherry\"]\n",
    "fruits = \"I like apples, bananas, and cherries\"\n",
    "result = re.findall(\"|\".join(patterns), fruits)\n",
    "print(result)\n",
    "\n"
   ]
  },
  {
   "cell_type": "markdown",
   "metadata": {},
   "source": [
    "# Practice Time\n",
    "\n",
    "Let us practice what we have learnt so far. \n",
    "You can complete projects 5."
   ]
  },
  {
   "cell_type": "code",
   "execution_count": null,
   "metadata": {},
   "outputs": [],
   "source": []
  }
 ],
 "metadata": {
  "kernelspec": {
   "display_name": "Python 3",
   "language": "python",
   "name": "python3"
  },
  "language_info": {
   "codemirror_mode": {
    "name": "ipython",
    "version": 3
   },
   "file_extension": ".py",
   "mimetype": "text/x-python",
   "name": "python",
   "nbconvert_exporter": "python",
   "pygments_lexer": "ipython3",
   "version": "3.6.9"
  }
 },
 "nbformat": 4,
 "nbformat_minor": 1
}
