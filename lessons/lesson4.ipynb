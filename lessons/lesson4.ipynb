{
 "cells": [
  {
   "cell_type": "markdown",
   "metadata": {},
   "source": [
    "# Lesson 4: File Handling\n",
    "\n",
    "File handling is an essential part of any programming language, including Python. It involves opening, reading, writing, and closing files. In Python, you can perform file handling operations using built-in functions and modules.\n",
    "\n",
    "Reading and Writing to Files:\n",
    "Python provides built-in functions to open, read, write, and close files. You can use the open() function to open a file in different modes, such as 'r' for reading, 'w' for writing, and 'a' for appending."
   ]
  },
  {
   "cell_type": "code",
   "execution_count": null,
   "metadata": {
    "scrolled": true,
    "vscode": {
     "languageId": "plaintext"
    }
   },
   "outputs": [],
   "source": [
    "# Open a file in write mode\n",
    "file = open(\"example.txt\", \"w\")\n",
    "\n",
    "# Write to the file\n",
    "file.write(\"This is a sample text.\")\n",
    "\n",
    "file.write(\"Second line added.\")\n",
    "\n",
    "# Close the file\n",
    "file.close()\n",
    "\n",
    "# Open the same file in read mode\n",
    "file = open(\"example.txt\", \"r\")\n",
    "\n",
    "# Read from the file\n",
    "text = file.read()\n",
    "\n",
    "# Print the contents of the file\n",
    "print(text)\n",
    "\n",
    "# Close the file\n",
    "file.close()\n",
    "\n",
    "with open(\"example\") as f:\n",
    "    lines = f.readlines()\n",
    "    for line in lines:\n",
    "        print(line)\n",
    "    "
   ]
  },
  {
   "cell_type": "markdown",
   "metadata": {},
   "source": [
    "### Basic File Handling Operations:\n",
    "Apart from opening, reading, and writing to files, you can also perform other file handling operations, such as deleting files and checking if a file exists."
   ]
  },
  {
   "cell_type": "code",
   "execution_count": null,
   "metadata": {
    "vscode": {
     "languageId": "plaintext"
    }
   },
   "outputs": [],
   "source": [
    "# Importing os module\n",
    "import os\n",
    "\n",
    "# Open a file in write mode\n",
    "file = open(\"example.txt\", \"w\")\n",
    "\n",
    "# Write to the file\n",
    "file.write(\"This is a sample text\")\n",
    "\n",
    "# Close the file\n",
    "file.close()\n",
    "\n",
    "# Check if the file exists\n",
    "if os.path.exists(\"example.txt\"):\n",
    "    print(\"File exists\")\n",
    "else:\n",
    "    print(\"File does not exist\")\n",
    "\n",
    "# Delete the file\n",
    "os.remove(\"example.txt\")\n",
    "\n",
    "# Check if the file exists\n",
    "if os.path.exists(\"example.txt\"):\n",
    "    print(\"File exists\")\n",
    "else:\n",
    "    print(\"File does not exist\")\n"
   ]
  },
  {
   "cell_type": "markdown",
   "metadata": {},
   "source": [
    "### Basic File Handling with JSON:\n"
   ]
  },
  {
   "cell_type": "code",
   "execution_count": null,
   "metadata": {},
   "outputs": [],
   "source": [
    "import json\n",
    "\n",
    "# Write data to a JSON file\n",
    "data = {'name': 'John', 'age': 30, 'city': 'New York'}\n",
    "with open('data.json', 'w') as f:\n",
    "    json.dump(data, f)\n",
    "\n",
    "# Edit data in a JSON file\n",
    "with open('data.json', 'r') as f:\n",
    "    data = json.load(f)\n",
    "    data['city'] = 'Los Angeles'\n",
    "with open('data.json', 'w') as f:\n",
    "    json.dump(data, f)\n",
    "\n",
    "# Load data from a JSON file\n",
    "with open('data.json', 'r') as f:\n",
    "    data = json.load(f)\n",
    "    print(data)"
   ]
  },
  {
   "cell_type": "markdown",
   "metadata": {},
   "source": [
    "In this example, we first write some data to a JSON file called data.json using the json.dump() method. We then load the data from the file using json.load(), edit the value of the city key in the loaded data, and then write the updated data back to the file. Finally, we load the data again and print it to confirm that the update was successful."
   ]
  },
  {
   "cell_type": "code",
   "execution_count": null,
   "metadata": {},
   "outputs": [],
   "source": []
  }
 ],
 "metadata": {
  "kernelspec": {
   "display_name": "Python 3",
   "language": "python",
   "name": "python3"
  },
  "language_info": {
   "codemirror_mode": {
    "name": "ipython",
    "version": 3
   },
   "file_extension": ".py",
   "mimetype": "text/x-python",
   "name": "python",
   "nbconvert_exporter": "python",
   "pygments_lexer": "ipython3",
   "version": "3.6.9"
  }
 },
 "nbformat": 4,
 "nbformat_minor": 2
}
