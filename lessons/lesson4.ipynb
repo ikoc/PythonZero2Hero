{
 "cells": [
  {
   "attachments": {},
   "cell_type": "markdown",
   "metadata": {},
   "source": [
    "# Lesson 4: Lists, Tuples, and Dictionaries\n",
    "\n",
    "The three most commonly used data structures in Python are lists, tuples, and dictionaries. \n",
    "\n",
    "### Lists\n",
    "A list is a collection of items that are ordered and changeable. Lists are created using square brackets [] and elements are separated by commas."
   ]
  },
  {
   "cell_type": "code",
   "execution_count": null,
   "metadata": {},
   "outputs": [],
   "source": [
    "my_list = [1, 2, 3, 4, 5]\n",
    "print(my_list)  # Output: [1, 2, 3, 4, 5]"
   ]
  },
  {
   "attachments": {},
   "cell_type": "markdown",
   "metadata": {},
   "source": [
    "Lists are mutable, which means that their elements can be changed after they are created. You can modify a list by assigning new values to its elements or by using methods like append(), insert(), remove(), pop(), and sort()."
   ]
  },
  {
   "cell_type": "code",
   "execution_count": null,
   "metadata": {},
   "outputs": [],
   "source": [
    "my_list[0] = 6\n",
    "print(my_list)  # Output: [6, 2, 3, 4, 5]\n",
    "\n",
    "my_list.append(6)\n",
    "print(my_list)  # Output: [6, 2, 3, 4, 5, 6]\n",
    "\n",
    "my_list.remove(4)\n",
    "print(my_list)  # Output: [6, 2, 3, 5, 6]\n",
    "\n",
    "my_list.sort()\n",
    "print(my_list)  # Output: [2, 3, 5, 6, 6]"
   ]
  },
  {
   "attachments": {},
   "cell_type": "markdown",
   "metadata": {},
   "source": [
    "### Tuples\n",
    "A tuple is a collection of items that are ordered and unchangeable. Tuples are created using parentheses () and elements are separated by commas."
   ]
  },
  {
   "cell_type": "code",
   "execution_count": null,
   "metadata": {},
   "outputs": [],
   "source": [
    "my_tuple = (1, 2, 3, 4, 5)\n",
    "print(my_tuple)  # Output: (1, 2, 3, 4, 5)"
   ]
  },
  {
   "attachments": {},
   "cell_type": "markdown",
   "metadata": {},
   "source": [
    "### Dictionaries\n",
    "A dictionary is a collection of key-value pairs that are unordered and changeable. Dictionaries are created using curly braces {} and elements are written as key-value pairs separated by commas."
   ]
  },
  {
   "cell_type": "code",
   "execution_count": null,
   "metadata": {},
   "outputs": [
    {
     "ename": "",
     "evalue": "",
     "output_type": "error",
     "traceback": [
      "\u001b[1;31mRunning cells with 'c:\\msys64\\mingw64\\bin\\python.exe' requires the ipykernel package.\n",
      "\u001b[1;31mRun the following command to install 'ipykernel' into the Python environment. \n",
      "\u001b[1;31mCommand: 'c:/msys64/mingw64/bin/python.exe -m pip install ipykernel -U --user --force-reinstall'"
     ]
    }
   ],
   "source": [
    "my_dict = {'apple': 1, 'banana': 2, 'orange': 3}\n",
    "print(my_dict)  # Output: {'apple': 1, 'banana': 2, 'orange': 3}\n"
   ]
  },
  {
   "attachments": {},
   "cell_type": "markdown",
   "metadata": {},
   "source": [
    "You can access the values of a dictionary by using its keys. You can also modify a dictionary by assigning new values to its keys or by using methods like update(), pop(), and clear()."
   ]
  },
  {
   "cell_type": "code",
   "execution_count": null,
   "metadata": {},
   "outputs": [],
   "source": [
    "print(my_dict['apple'])  # Output: 1\n",
    "\n",
    "my_dict['apple'] = 4\n",
    "print(my_dict)  # Output: {'apple': 4, 'banana': 2, 'orange': 3}\n",
    "\n",
    "my_dict.update({'pear': 5})\n",
    "print(my_dict)  # Output: {'apple': 4, 'banana': 2, 'orange': 3, 'pear': 5}\n",
    "\n",
    "my_dict.pop('banana')\n",
    "print(my_dict)  # Output: {'apple': 4, 'orange': 3, 'pear': 5}\n",
    "\n",
    "my_dict.clear()\n",
    "print(my_dict)  # Output: {}\n"
   ]
  }
 ],
 "metadata": {
  "kernelspec": {
   "display_name": "Python 3",
   "language": "python",
   "name": "python3"
  },
  "language_info": {
   "name": "python",
   "version": "3.9.13"
  },
  "orig_nbformat": 4
 },
 "nbformat": 4,
 "nbformat_minor": 2
}
