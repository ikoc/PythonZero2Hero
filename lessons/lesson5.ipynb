{
 "cells": [
  {
   "attachments": {},
   "cell_type": "markdown",
   "metadata": {},
   "source": [
    "### Lesson 5: File Handling\n",
    "\n",
    "File handling is an essential part of any programming language, including Python. It involves opening, reading, writing, and closing files. In Python, you can perform file handling operations using built-in functions and modules.\n",
    "\n",
    "Reading and Writing to Files:\n",
    "Python provides built-in functions to open, read, write, and close files. You can use the open() function to open a file in different modes, such as 'r' for reading, 'w' for writing, and 'a' for appending."
   ]
  },
  {
   "cell_type": "code",
   "execution_count": null,
   "metadata": {
    "vscode": {
     "languageId": "plaintext"
    }
   },
   "outputs": [],
   "source": [
    "# Open a file in write mode\n",
    "file = open(\"example.txt\", \"w\")\n",
    "\n",
    "# Write to the file\n",
    "file.write(\"This is a sample text\")\n",
    "\n",
    "# Close the file\n",
    "file.close()\n",
    "\n",
    "# Open the same file in read mode\n",
    "file = open(\"example.txt\", \"r\")\n",
    "\n",
    "# Read from the file\n",
    "text = file.read()\n",
    "\n",
    "# Print the contents of the file\n",
    "print(text)\n",
    "\n",
    "# Close the file\n",
    "file.close()\n"
   ]
  },
  {
   "attachments": {},
   "cell_type": "markdown",
   "metadata": {},
   "source": [
    "### Basic File Handling Operations:\n",
    "Apart from opening, reading, and writing to files, you can also perform other file handling operations, such as deleting files and checking if a file exists."
   ]
  },
  {
   "cell_type": "code",
   "execution_count": null,
   "metadata": {
    "vscode": {
     "languageId": "plaintext"
    }
   },
   "outputs": [],
   "source": [
    "# Importing os module\n",
    "import os\n",
    "\n",
    "# Open a file in write mode\n",
    "file = open(\"example.txt\", \"w\")\n",
    "\n",
    "# Write to the file\n",
    "file.write(\"This is a sample text\")\n",
    "\n",
    "# Close the file\n",
    "file.close()\n",
    "\n",
    "# Check if the file exists\n",
    "if os.path.exists(\"example.txt\"):\n",
    "    print(\"File exists\")\n",
    "else:\n",
    "    print(\"File does not exist\")\n",
    "\n",
    "# Delete the file\n",
    "os.remove(\"example.txt\")\n",
    "\n",
    "# Check if the file exists\n",
    "if os.path.exists(\"example.txt\"):\n",
    "    print(\"File exists\")\n",
    "else:\n",
    "    print(\"File does not exist\")\n"
   ]
  }
 ],
 "metadata": {
  "language_info": {
   "name": "python"
  },
  "orig_nbformat": 4
 },
 "nbformat": 4,
 "nbformat_minor": 2
}
