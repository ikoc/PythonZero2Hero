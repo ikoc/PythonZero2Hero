{
 "cells": [
  {
   "cell_type": "markdown",
   "metadata": {
    "collapsed": true
   },
   "source": [
    "# Lesson 5: Object-Oriented Programming in Python\n",
    "\n",
    "Object-Oriented Programming (OOP) is a programming paradigm that revolves around the concept of objects. An object is an instance of a class, which is a blueprint for creating objects. Python is an object-oriented programming language, which means that it fully supports OOP concepts like encapsulation, inheritance, and polymorphism.\n",
    "\n",
    "The following are the key concepts of OOP in Python:\n",
    "\n",
    "#### Class:\n",
    "A class is a blueprint or a template for creating objects. It defines the attributes and methods that the objects of that class will have. You can think of a class as a cookie cutter and objects as the cookies.\n",
    "\n",
    "#### Object: \n",
    "An object is an instance of a class. It is created from the class blueprint and has its own unique identity, attributes, and methods.\n",
    "\n",
    "#### Encapsulation:\n",
    "Encapsulation is an important concept in object-oriented programming (OOP) that refers to the bundling of data and the methods that operate on that data within a single unit, such as a class. It is a way of organizing code and data that makes it easier to manage complexity and reduce the risk of unintended interactions between different parts of the code.\n",
    "\n",
    "Encapsulation provides a number of benefits, including:\n",
    "\n",
    "Information hiding: Encapsulation allows you to hide the internal details of how an object works from other parts of the program, which makes it easier to change or update the implementation of the object without affecting other parts of the program.\n",
    "\n",
    "Modularity: By encapsulating data and behavior within a single object, you can create modular, reusable code that is easier to understand and maintain.\n",
    "\n",
    "Security: Encapsulation helps to prevent unauthorized access to an object's internal state by providing a well-defined interface that controls how other parts of the program can interact with the object.\n",
    "#### Inheritance:\n",
    "Inheritance is a mechanism that allows a new class to be based on an existing class. The new class inherits all the attributes and methods of the existing class and can also add its own attributes and methods. The existing class is called the base class or the parent class, and the new class is called the derived class or the child class.\n",
    "\n",
    "#### Polymorphism:\n",
    "Polymorphism is a mechanism that allows objects of different classes to be treated as if they are of the same class. It allows different classes to have the same method name, but with different implementations. This enables the programmer to write more generic code that can work with different types of objects.\n",
    "\n",
    "Here is an example of defining a class in Python:\n",
    "\n"
   ]
  },
  {
   "cell_type": "code",
   "execution_count": 1,
   "metadata": {},
   "outputs": [],
   "source": [
    "class Person:\n",
    "    def __init__(self, name, age):\n",
    "        self.name = name\n",
    "        self.age = age\n",
    "        \n",
    "    def say_hello(self):\n",
    "        print(\"Hello, my name is\", self.name, \"and I am\", self.age, \"years old.\")\n"
   ]
  },
  {
   "cell_type": "code",
   "execution_count": 2,
   "metadata": {},
   "outputs": [
    {
     "name": "stdout",
     "output_type": "stream",
     "text": [
      "Alice\n",
      "30\n"
     ]
    }
   ],
   "source": [
    "person1 = Person(\"Alice\", 25)\n",
    "person2 = Person(\"Bob\", 30)\n",
    "print(person1.name)\n",
    "print(person2.age)\n"
   ]
  },
  {
   "cell_type": "markdown",
   "metadata": {},
   "source": [
    "In this example, we define a Person class that has a name attribute and an age attribute. It also has a say_hello method that prints out a greeting message. We can create objects of this class as follows:\n",
    "\n"
   ]
  },
  {
   "cell_type": "code",
   "execution_count": 3,
   "metadata": {},
   "outputs": [
    {
     "name": "stdout",
     "output_type": "stream",
     "text": [
      "Hello, my name is Alice and I am 25 years old.\n",
      "Hello, my name is Bob and I am 30 years old.\n"
     ]
    }
   ],
   "source": [
    "person1.say_hello()\n",
    "person2.say_hello()"
   ]
  },
  {
   "cell_type": "markdown",
   "metadata": {},
   "source": [
    "Inheritance is one of the key concepts of object-oriented programming, which allows a class to inherit properties and methods from its parent class. The parent class is also known as the superclass, and the child class is known as the subclass. Inheritance can help in creating a hierarchy of classes with a shared set of attributes and methods.\n",
    "\n",
    "To define a subclass, we can use the keyword 'class' followed by the name of the subclass and the name of the parent class in parentheses. Here is an example:\n"
   ]
  },
  {
   "cell_type": "code",
   "execution_count": 4,
   "metadata": {},
   "outputs": [],
   "source": [
    "class Student(Person):\n",
    "    def __init__(self, name, age, grade):\n",
    "        super().__init__(name, age)\n",
    "        self.grade = grade\n",
    "        \n",
    "    def get_grade(self):\n",
    "        return self.grade\n"
   ]
  },
  {
   "cell_type": "code",
   "execution_count": 6,
   "metadata": {},
   "outputs": [
    {
     "name": "stdout",
     "output_type": "stream",
     "text": [
      "Hello, my name is Okan and I am 29 years old.\n",
      "95\n"
     ]
    }
   ],
   "source": [
    "person3 = Student(\"Okan\", 29,95)\n",
    "person3.say_hello()\n",
    "print(person3.get_grade())"
   ]
  },
  {
   "cell_type": "markdown",
   "metadata": {},
   "source": [
    "Polymorphism is another key concept of object-oriented programming that allows objects of different classes to be used interchangeably. Polymorphism means \"many forms,\" and it refers to the ability of objects of different classes to respond to the same message or method call in different ways.\n",
    "\n",
    "Polymorphism can be achieved through method overriding and method overloading. Method overriding means defining a method in a subclass that has the same name and parameters as a method in the parent class, but with a different implementation. Method overloading means defining multiple methods with the same name in a class, but with different parameters.\n",
    "\n",
    "Here is an example of method overriding in Python:"
   ]
  },
  {
   "cell_type": "code",
   "execution_count": 7,
   "metadata": {},
   "outputs": [
    {
     "name": "stdout",
     "output_type": "stream",
     "text": [
      "Meow\n",
      "Woof\n"
     ]
    }
   ],
   "source": [
    "class Animal:\n",
    "    def speak(self):\n",
    "        print(\"Animal is speaking\")\n",
    "        \n",
    "class Cat(Animal):\n",
    "    def speak(self):\n",
    "        print(\"Meow\")\n",
    "        \n",
    "class Dog(Animal):\n",
    "    def speak(self):\n",
    "        print(\"Woof\")\n",
    "        \n",
    "animal_list = [Cat(), Dog()]\n",
    "\n",
    "for animal in animal_list:\n",
    "    animal.speak()\n"
   ]
  },
  {
   "cell_type": "markdown",
   "metadata": {},
   "source": [
    "In conclusion, Object-Oriented Programming (OOP) is a powerful programming paradigm that allows you to model real-world objects and systems in a natural way. Python provides full support for OOP concepts, including classes, objects, inheritance, and polymorphism. Understanding OOP concepts can help you write more efficient and maintainable code, and can also make it easier to collaborate with other developers on complex projects."
   ]
  },
  {
   "cell_type": "code",
   "execution_count": null,
   "metadata": {},
   "outputs": [],
   "source": []
  }
 ],
 "metadata": {
  "kernelspec": {
   "display_name": "Python 3",
   "language": "python",
   "name": "python3"
  },
  "language_info": {
   "codemirror_mode": {
    "name": "ipython",
    "version": 3
   },
   "file_extension": ".py",
   "mimetype": "text/x-python",
   "name": "python",
   "nbconvert_exporter": "python",
   "pygments_lexer": "ipython3",
   "version": "3.6.9"
  }
 },
 "nbformat": 4,
 "nbformat_minor": 1
}
