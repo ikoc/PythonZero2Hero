{
 "cells": [
  {
   "cell_type": "markdown",
   "metadata": {},
   "source": [
    "# Lesson 7: Data Analysis and Visualization using Python\n",
    "\n",
    "Data analysis with Python is a process of cleaning, transforming, and modeling data to extract meaningful insights and information. It is a crucial aspect of any business or research project that involves data. Python is a popular language for data analysis due to its extensive libraries and tools that enable data processing and visualization.\n",
    "\n",
    "Here are some key aspects of data analysis with Python:\n",
    "\n",
    "Data Cleaning: This involves identifying and handling missing or inaccurate data, removing duplicates, and transforming data to the required format. Popular libraries for data cleaning in Python include Pandas, NumPy, and SciPy.\n",
    "\n",
    "Data Exploration: This involves visualizing data to identify patterns, trends, and correlations. Python has several libraries for data visualization, including Matplotlib, Seaborn, and Plotly.\n",
    "\n",
    "Data Modeling: This involves applying statistical and machine learning algorithms to extract insights from the data. Python has several libraries for data modeling, including Scikit-learn, TensorFlow, and Keras.\n",
    "\n",
    "Data Reporting: This involves creating reports and dashboards to communicate insights to stakeholders. Python has several libraries for data reporting, including Pandas, Matplotlib, and Plotly.\n",
    "\n",
    "Overall, data analysis with Python involves several steps, from cleaning and transforming data to visualizing and modeling it, and finally communicating the insights through reports and dashboards. It requires knowledge of Python programming, statistics, and machine learning."
   ]
  },
  {
   "cell_type": "markdown",
   "metadata": {
    "collapsed": true
   },
   "source": [
    "### Numpy\n",
    "NumPy (short for Numerical Python) is a popular Python library used for scientific computing and data analysis. It provides a powerful N-dimensional array object, which can be used to store and manipulate large datasets in an efficient and fast manner.\n",
    "\n",
    "NumPy also provides many built-in functions for mathematical operations, including linear algebra, Fourier analysis, and random number generation. Additionally, it has several tools for integrating C/C++ and Fortran code, making it a popular choice for scientific computing applications.\n",
    "\n",
    "Overall, NumPy is a fundamental package for scientific computing in Python, providing high-performance multi-dimensional arrays, and tools for working with these arrays.\n"
   ]
  },
  {
   "cell_type": "code",
   "execution_count": 7,
   "metadata": {},
   "outputs": [
    {
     "name": "stdout",
     "output_type": "stream",
     "text": [
      "[1 2 3 4 5]\n",
      "[[1 2 3]\n",
      " [4 5 6]\n",
      " [7 8 9]]\n",
      "[0. 0. 0. 0. 0.]\n",
      "[[1. 1. 1.]\n",
      " [1. 1. 1.]\n",
      " [1. 1. 1.]]\n",
      "[[0.46122623 0.09455244 0.97085059]\n",
      " [0.10359887 0.03858423 0.49575788]\n",
      " [0.40490113 0.09108254 0.63773949]]\n"
     ]
    }
   ],
   "source": [
    "# Creating arrays:\n",
    "\n",
    "import numpy as np\n",
    "\n",
    "# create a 1D array\n",
    "arr1d = np.array([1, 2, 3, 4, 5])\n",
    "print(arr1d)\n",
    "\n",
    "# create a 2D array\n",
    "arr2d = np.array([[1, 2, 3], [4, 5, 6], [7, 8, 9]])\n",
    "print(arr2d)\n",
    "\n",
    "# create an array of zeros\n",
    "zeros_arr = np.zeros(5)\n",
    "print(zeros_arr)\n",
    "\n",
    "# create an array of ones\n",
    "ones_arr = np.ones((3, 3))\n",
    "print(ones_arr)\n",
    "\n",
    "# create an array of random values\n",
    "rand_arr = np.random.rand(3, 3)\n",
    "print(rand_arr)\n"
   ]
  },
  {
   "cell_type": "code",
   "execution_count": 8,
   "metadata": {},
   "outputs": [
    {
     "name": "stdout",
     "output_type": "stream",
     "text": [
      "3\n",
      "[2 3 4]\n",
      "[1 2 3]\n",
      "[3 4 5]\n",
      "3\n",
      "[[4 5]\n",
      " [7 8]]\n"
     ]
    }
   ],
   "source": [
    "# Array indexing and slicing:\n",
    "\n",
    "import numpy as np\n",
    "\n",
    "arr = np.array([1, 2, 3, 4, 5])\n",
    "print(arr[2]) # access element at index 2\n",
    "print(arr[1:4]) # slice from index 1 to 4 (exclusive)\n",
    "print(arr[:3]) # slice from start to index 3 (exclusive)\n",
    "print(arr[2:]) # slice from index 2 to end\n",
    "\n",
    "arr_2d = np.array([[1, 2, 3], [4, 5, 6], [7, 8, 9]])\n",
    "print(arr_2d[0][2]) # access element at row 0, column 2\n",
    "print(arr_2d[1:, :2]) # slice rows 1 and 2, and columns 0 and 1\n"
   ]
  },
  {
   "cell_type": "code",
   "execution_count": 9,
   "metadata": {},
   "outputs": [
    {
     "name": "stdout",
     "output_type": "stream",
     "text": [
      "[5 7 9]\n",
      "[ 4 10 18]\n",
      "32\n",
      "6\n",
      "2.0\n",
      "0.816496580927726\n"
     ]
    }
   ],
   "source": [
    "# Array operations:\n",
    "\n",
    "import numpy as np\n",
    "\n",
    "arr1 = np.array([1, 2, 3])\n",
    "arr2 = np.array([4, 5, 6])\n",
    "\n",
    "# element-wise addition\n",
    "add_arr = arr1 + arr2\n",
    "print(add_arr)\n",
    "\n",
    "# element-wise multiplication\n",
    "mul_arr = arr1 * arr2\n",
    "print(mul_arr)\n",
    "\n",
    "# matrix multiplication\n",
    "mat_mul = np.dot(arr1, arr2)\n",
    "print(mat_mul)\n",
    "\n",
    "# sum of all elements\n",
    "sum_arr = np.sum(arr1)\n",
    "print(sum_arr)\n",
    "\n",
    "# mean of all elements\n",
    "mean_arr = np.mean(arr1)\n",
    "print(mean_arr)\n",
    "\n",
    "# standard deviation of all elements\n",
    "std_arr = np.std(arr1)\n",
    "print(std_arr)\n"
   ]
  },
  {
   "cell_type": "code",
   "execution_count": 10,
   "metadata": {},
   "outputs": [
    {
     "name": "stdout",
     "output_type": "stream",
     "text": [
      "[2 4 6]\n",
      "[2 3 4]\n",
      "[[ 2  4  6]\n",
      " [ 8 10 12]]\n",
      "[[3 6]\n",
      " [4 8]]\n"
     ]
    }
   ],
   "source": [
    "# Broadcasting:\n",
    "\n",
    "import numpy as np\n",
    "\n",
    "arr1 = np.array([1, 2, 3])\n",
    "arr2 = np.array([4, 5, 6])\n",
    "\n",
    "# scalar multiplication\n",
    "scalar_mul = arr1 * 2\n",
    "print(scalar_mul)\n",
    "\n",
    "# broadcasting\n",
    "broadcast_add = arr1 + 1\n",
    "print(broadcast_add)\n",
    "\n",
    "# broadcasting with 2D arrays\n",
    "arr_2d = np.array([[1, 2, 3], [4, 5, 6]])\n",
    "scalar_mul_2d = arr_2d * 2\n",
    "print(scalar_mul_2d)\n",
    "\n",
    "# broadcasting with different shaped arrays\n",
    "arr3 = np.array([1, 2])\n",
    "arr4 = np.array([[3], [4]])\n",
    "broadcast_mul = arr3 * arr4\n",
    "print(broadcast_mul)\n"
   ]
  },
  {
   "cell_type": "markdown",
   "metadata": {},
   "source": [
    "### Matplotlib\n",
    "Matplotlib is a popular data visualization library in Python. It can be used to create a wide range of graphs, including line plots, scatter plots, bar plots, histograms, and more. Here are a few examples of how to create different types of graphs using Matplotlib.\n",
    "\n",
    "#### Line plot:\n",
    "A line plot is a basic plot that displays the relationship between two variables. Here's an example of how to create a line plot using Matplotlib:"
   ]
  },
  {
   "cell_type": "code",
   "execution_count": 3,
   "metadata": {},
   "outputs": [
    {
     "data": {
      "image/png": "[encoded data removed]",
      "text/plain": [
       "<Figure size 432x288 with 1 Axes>"
      ]
     },
     "metadata": {
      "needs_background": "light"
     },
     "output_type": "display_data"
    }
   ],
   "source": [
    "import matplotlib.pyplot as plt\n",
    "import numpy as np\n",
    "\n",
    "# Generate some data\n",
    "x = np.linspace(0, 10, 100)\n",
    "y = np.sin(x)\n",
    "\n",
    "# Create the plot\n",
    "plt.plot(x, y)\n",
    "\n",
    "# Add labels and title\n",
    "plt.xlabel('X axis label')\n",
    "plt.ylabel('Y axis label')\n",
    "plt.title('Line plot')\n",
    "\n",
    "# Show the plot\n",
    "plt.show()\n"
   ]
  },
  {
   "cell_type": "markdown",
   "metadata": {},
   "source": [
    "#### Scatter plot:\n",
    "A scatter plot is used to display the relationship between two variables by plotting points on a 2D graph. Here's an example of how to create a scatter plot using Matplotlib:"
   ]
  },
  {
   "cell_type": "code",
   "execution_count": 4,
   "metadata": {},
   "outputs": [
    {
     "data": {
      "image/png": "[encoded data removed]",
      "text/plain": [
       "<Figure size 432x288 with 1 Axes>"
      ]
     },
     "metadata": {
      "needs_background": "light"
     },
     "output_type": "display_data"
    }
   ],
   "source": [
    "import matplotlib.pyplot as plt\n",
    "import numpy as np\n",
    "\n",
    "# Generate some data\n",
    "x = np.random.rand(50)\n",
    "y = np.random.rand(50)\n",
    "\n",
    "# Create the plot\n",
    "plt.scatter(x, y)\n",
    "\n",
    "# Add labels and title\n",
    "plt.xlabel('X axis label')\n",
    "plt.ylabel('Y axis label')\n",
    "plt.title('Scatter plot')\n",
    "\n",
    "# Show the plot\n",
    "plt.show()\n"
   ]
  },
  {
   "cell_type": "markdown",
   "metadata": {},
   "source": [
    "#### Bar plot:\n",
    "A bar plot is used to compare different categories of data by showing the heights of bars. Here's an example of how to create a bar plot using Matplotlib:"
   ]
  },
  {
   "cell_type": "code",
   "execution_count": 5,
   "metadata": {},
   "outputs": [
    {
     "data": {
      "image/png": "[encoded data removed]",
      "text/plain": [
       "<Figure size 432x288 with 1 Axes>"
      ]
     },
     "metadata": {
      "needs_background": "light"
     },
     "output_type": "display_data"
    }
   ],
   "source": [
    "import matplotlib.pyplot as plt\n",
    "import numpy as np\n",
    "\n",
    "# Generate some data\n",
    "x = ['A', 'B', 'C', 'D', 'E']\n",
    "y = np.random.randint(0, 10, 5)\n",
    "\n",
    "# Create the plot\n",
    "plt.bar(x, y)\n",
    "\n",
    "# Add labels and title\n",
    "plt.xlabel('Categories')\n",
    "plt.ylabel('Values')\n",
    "plt.title('Bar plot')\n",
    "\n",
    "# Show the plot\n",
    "plt.show()\n"
   ]
  },
  {
   "cell_type": "markdown",
   "metadata": {},
   "source": [
    "#### Histogram:\n",
    "A histogram is used to visualize the distribution of data by showing how many values fall into different bins. Here's an example of how to create a histogram using Matplotlib:"
   ]
  },
  {
   "cell_type": "code",
   "execution_count": 6,
   "metadata": {},
   "outputs": [
    {
     "data": {
      "image/png": "[encoded data removed]",
      "text/plain": [
       "<Figure size 432x288 with 1 Axes>"
      ]
     },
     "metadata": {
      "needs_background": "light"
     },
     "output_type": "display_data"
    }
   ],
   "source": [
    "import matplotlib.pyplot as plt\n",
    "import numpy as np\n",
    "\n",
    "# Generate some data\n",
    "data = np.random.randn(1000)\n",
    "\n",
    "# Create the plot\n",
    "plt.hist(data, bins=20)\n",
    "\n",
    "# Add labels and title\n",
    "plt.xlabel('Values')\n",
    "plt.ylabel('Frequency')\n",
    "plt.title('Histogram')\n",
    "\n",
    "# Show the plot\n",
    "plt.show()\n"
   ]
  },
  {
   "cell_type": "code",
   "execution_count": null,
   "metadata": {},
   "outputs": [],
   "source": []
  }
 ],
 "metadata": {
  "kernelspec": {
   "display_name": "Python 3",
   "language": "python",
   "name": "python3"
  },
  "language_info": {
   "codemirror_mode": {
    "name": "ipython",
    "version": 3
   },
   "file_extension": ".py",
   "mimetype": "text/x-python",
   "name": "python",
   "nbconvert_exporter": "python",
   "pygments_lexer": "ipython3",
   "version": "3.6.9"
  }
 },
 "nbformat": 4,
 "nbformat_minor": 1
}
